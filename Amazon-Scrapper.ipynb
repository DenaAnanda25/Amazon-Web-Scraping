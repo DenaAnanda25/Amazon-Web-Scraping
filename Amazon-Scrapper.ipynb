{
 "cells": [
  {
   "cell_type": "markdown",
   "id": "cff4a076",
   "metadata": {},
   "source": [
    "Requirements: \n",
    "1. Selenium\n",
    "2. BeautifulSoup"
   ]
  },
  {
   "cell_type": "markdown",
   "id": "54cd0e34",
   "metadata": {},
   "source": [
    "## Install and Import Requirements"
   ]
  },
  {
   "cell_type": "code",
   "execution_count": 87,
   "id": "32d9ed55",
   "metadata": {},
   "outputs": [],
   "source": [
    "import csv\n",
    "from bs4 import BeautifulSoup"
   ]
  },
  {
   "cell_type": "code",
   "execution_count": 88,
   "id": "c2f16a4f",
   "metadata": {
    "scrolled": true
   },
   "outputs": [
    {
     "name": "stdout",
     "output_type": "stream",
     "text": [
      "Note: you may need to restart the kernel to use updated packages.\n",
      "Requirement already satisfied: selenium in c:\\users\\anand\\anaconda3\\lib\\site-packages (4.6.0)\n",
      "Requirement already satisfied: trio-websocket~=0.9 in c:\\users\\anand\\anaconda3\\lib\\site-packages (from selenium) (0.9.2)\n",
      "Requirement already satisfied: urllib3[socks]~=1.26 in c:\\users\\anand\\anaconda3\\lib\\site-packages (from selenium) (1.26.4)\n",
      "Requirement already satisfied: trio~=0.17 in c:\\users\\anand\\anaconda3\\lib\\site-packages (from selenium) (0.22.0)\n",
      "Requirement already satisfied: certifi>=2021.10.8 in c:\\users\\anand\\anaconda3\\lib\\site-packages (from selenium) (2022.9.24)\n",
      "Requirement already satisfied: exceptiongroup>=1.0.0rc9 in c:\\users\\anand\\anaconda3\\lib\\site-packages (from trio~=0.17->selenium) (1.0.4)\n",
      "Requirement already satisfied: outcome in c:\\users\\anand\\anaconda3\\lib\\site-packages (from trio~=0.17->selenium) (1.2.0)\n",
      "Requirement already satisfied: idna in c:\\users\\anand\\anaconda3\\lib\\site-packages (from trio~=0.17->selenium) (2.10)\n",
      "Requirement already satisfied: sniffio in c:\\users\\anand\\anaconda3\\lib\\site-packages (from trio~=0.17->selenium) (1.2.0)\n",
      "Requirement already satisfied: sortedcontainers in c:\\users\\anand\\anaconda3\\lib\\site-packages (from trio~=0.17->selenium) (2.3.0)\n",
      "Requirement already satisfied: attrs>=19.2.0 in c:\\users\\anand\\anaconda3\\lib\\site-packages (from trio~=0.17->selenium) (20.3.0)\n",
      "Requirement already satisfied: async-generator>=1.9 in c:\\users\\anand\\anaconda3\\lib\\site-packages (from trio~=0.17->selenium) (1.10)\n",
      "Requirement already satisfied: cffi>=1.14 in c:\\users\\anand\\anaconda3\\lib\\site-packages (from trio~=0.17->selenium) (1.14.5)\n",
      "Requirement already satisfied: pycparser in c:\\users\\anand\\anaconda3\\lib\\site-packages (from cffi>=1.14->trio~=0.17->selenium) (2.20)\n",
      "Requirement already satisfied: wsproto>=0.14 in c:\\users\\anand\\anaconda3\\lib\\site-packages (from trio-websocket~=0.9->selenium) (1.2.0)\n",
      "Requirement already satisfied: PySocks!=1.5.7,<2.0,>=1.5.6 in c:\\users\\anand\\anaconda3\\lib\\site-packages (from urllib3[socks]~=1.26->selenium) (1.7.1)\n",
      "Requirement already satisfied: h11<1,>=0.9.0 in c:\\users\\anand\\anaconda3\\lib\\site-packages (from wsproto>=0.14->trio-websocket~=0.9->selenium) (0.14.0)\n"
     ]
    }
   ],
   "source": [
    "pip install selenium "
   ]
  },
  {
   "cell_type": "code",
   "execution_count": 89,
   "id": "613487f8",
   "metadata": {},
   "outputs": [],
   "source": [
    "from selenium import webdriver"
   ]
  },
  {
   "cell_type": "markdown",
   "id": "990e6bfc",
   "metadata": {},
   "source": [
    "## Startup the webdriver"
   ]
  },
  {
   "cell_type": "code",
   "execution_count": 90,
   "id": "d14a31b2",
   "metadata": {},
   "outputs": [],
   "source": [
    "driver = webdriver.Chrome()"
   ]
  },
  {
   "cell_type": "code",
   "execution_count": 91,
   "id": "74eef074",
   "metadata": {},
   "outputs": [],
   "source": [
    "url = 'https://www.amazon.com'\n",
    "driver.get(url)"
   ]
  },
  {
   "cell_type": "code",
   "execution_count": 92,
   "id": "a37b4a97",
   "metadata": {},
   "outputs": [],
   "source": [
    "def get_url(search_term):\n",
    "    \"\"\"Generate a url from search term\"\"\"\n",
    "    template = 'https://www.amazon.com/s?k={}&crid=3AAARZP6Y3RZ0&sprefix=gamming+acc%2Caps%2C371&ref=nb_sb_ss_sc_5_10'\n",
    "    search_term = search_term.replace(' ', '+')\n",
    "    return template.format(search_term)"
   ]
  },
  {
   "cell_type": "code",
   "execution_count": 93,
   "id": "eee6d479",
   "metadata": {},
   "outputs": [
    {
     "name": "stdout",
     "output_type": "stream",
     "text": [
      "https://www.amazon.com/s?k=gaming+accessories&crid=3AAARZP6Y3RZ0&sprefix=gamming+acc%2Caps%2C371&ref=nb_sb_ss_sc_5_10\n"
     ]
    }
   ],
   "source": [
    "url = get_url('gaming accessories')\n",
    "print(url)"
   ]
  },
  {
   "cell_type": "code",
   "execution_count": 94,
   "id": "205e8095",
   "metadata": {},
   "outputs": [],
   "source": [
    "driver.get(url)"
   ]
  },
  {
   "cell_type": "markdown",
   "id": "53c2d30f",
   "metadata": {},
   "source": [
    "## Extract the collection"
   ]
  },
  {
   "cell_type": "code",
   "execution_count": 95,
   "id": "23e7caca",
   "metadata": {},
   "outputs": [],
   "source": [
    "soup = BeautifulSoup(driver.page_source, 'html.parser')"
   ]
  },
  {
   "cell_type": "code",
   "execution_count": 96,
   "id": "a1eb1b38",
   "metadata": {},
   "outputs": [],
   "source": [
    "results = soup.find_all('div', {'data-component-type': 's-search-result'})"
   ]
  },
  {
   "cell_type": "code",
   "execution_count": 97,
   "id": "c906251b",
   "metadata": {},
   "outputs": [
    {
     "data": {
      "text/plain": [
       "22"
      ]
     },
     "execution_count": 97,
     "metadata": {},
     "output_type": "execute_result"
    }
   ],
   "source": [
    "len(results)"
   ]
  },
  {
   "cell_type": "markdown",
   "id": "a7e58a67",
   "metadata": {},
   "source": [
    "## Prototype the record"
   ]
  },
  {
   "cell_type": "code",
   "execution_count": 100,
   "id": "ee3b6150",
   "metadata": {},
   "outputs": [],
   "source": [
    "item = results[0]"
   ]
  },
  {
   "cell_type": "code",
   "execution_count": 101,
   "id": "a9d57708",
   "metadata": {},
   "outputs": [],
   "source": [
    "#simple property tree navigation to extract the header\n",
    "atag = item.h2.a"
   ]
  },
  {
   "cell_type": "code",
   "execution_count": 104,
   "id": "41402ea4",
   "metadata": {},
   "outputs": [],
   "source": [
    "description = atag.text.strip()"
   ]
  },
  {
   "cell_type": "code",
   "execution_count": 105,
   "id": "30696db0",
   "metadata": {},
   "outputs": [],
   "source": [
    "url = 'https://www.amazon.com' + atag.get('href')"
   ]
  },
  {
   "cell_type": "code",
   "execution_count": 106,
   "id": "50b74f8b",
   "metadata": {},
   "outputs": [],
   "source": [
    "price_parent = item.find('span', 'a-price')"
   ]
  },
  {
   "cell_type": "code",
   "execution_count": 107,
   "id": "1cc4ca32",
   "metadata": {},
   "outputs": [],
   "source": [
    "price = price_parent.find('span', 'a-offscreen').text"
   ]
  },
  {
   "cell_type": "code",
   "execution_count": 108,
   "id": "4d042f80",
   "metadata": {},
   "outputs": [
    {
     "data": {
      "text/plain": [
       "'4.6 out of 5 stars'"
      ]
     },
     "execution_count": 108,
     "metadata": {},
     "output_type": "execute_result"
    }
   ],
   "source": [
    "item.i.text"
   ]
  },
  {
   "cell_type": "code",
   "execution_count": 113,
   "id": "30f2d62c",
   "metadata": {},
   "outputs": [],
   "source": [
    "review_count = item.find('span', {'class' : 'a-size-base'}).text"
   ]
  },
  {
   "cell_type": "markdown",
   "id": "df41a3d7",
   "metadata": {},
   "source": [
    "## Generalize the pattern"
   ]
  },
  {
   "cell_type": "code",
   "execution_count": 117,
   "id": "980f2fc0",
   "metadata": {},
   "outputs": [],
   "source": [
    "def extract_record(item):\n",
    "    \"\"\"Extract and return data from a single record\"\"\"\n",
    "    \n",
    "    #description and url\n",
    "    atag = item.h2.a\n",
    "    description = atag.text.strip()\n",
    "    url = 'https://www.amazon.com' + atag.get('href')\n",
    "    \n",
    "    #price\n",
    "    price_parent = item.find('span', 'a-price')\n",
    "    price = price_parent.find('span', 'a-offscreen').text\n",
    "    \n",
    "    #reviews\n",
    "    rating = item.i.text\n",
    "    review_count = item.find('span', {'class' : 'a-size-base'}).text\n",
    "    \n",
    "    result = (description, price, rating, review_count, url)\n",
    "    return result"
   ]
  },
  {
   "cell_type": "code",
   "execution_count": 118,
   "id": "41d325e2",
   "metadata": {},
   "outputs": [
    {
     "ename": "AttributeError",
     "evalue": "'NoneType' object has no attribute 'text'",
     "output_type": "error",
     "traceback": [
      "\u001b[1;31m---------------------------------------------------------------------------\u001b[0m",
      "\u001b[1;31mAttributeError\u001b[0m                            Traceback (most recent call last)",
      "\u001b[1;32m<ipython-input-118-2f6db3df4b6a>\u001b[0m in \u001b[0;36m<module>\u001b[1;34m\u001b[0m\n\u001b[0;32m      3\u001b[0m \u001b[0mresults\u001b[0m \u001b[1;33m=\u001b[0m \u001b[0msoup\u001b[0m\u001b[1;33m.\u001b[0m\u001b[0mfind_all\u001b[0m\u001b[1;33m(\u001b[0m\u001b[1;34m'div'\u001b[0m\u001b[1;33m,\u001b[0m \u001b[1;33m{\u001b[0m\u001b[1;34m'data-component-type'\u001b[0m\u001b[1;33m:\u001b[0m \u001b[1;34m's-search-result'\u001b[0m\u001b[1;33m}\u001b[0m\u001b[1;33m)\u001b[0m\u001b[1;33m\u001b[0m\u001b[1;33m\u001b[0m\u001b[0m\n\u001b[0;32m      4\u001b[0m \u001b[1;32mfor\u001b[0m \u001b[0mitem\u001b[0m \u001b[1;32min\u001b[0m \u001b[0mresults\u001b[0m\u001b[1;33m:\u001b[0m\u001b[1;33m\u001b[0m\u001b[1;33m\u001b[0m\u001b[0m\n\u001b[1;32m----> 5\u001b[1;33m     \u001b[0mrecords\u001b[0m\u001b[1;33m.\u001b[0m\u001b[0mappend\u001b[0m\u001b[1;33m(\u001b[0m\u001b[0mextract_record\u001b[0m\u001b[1;33m(\u001b[0m\u001b[0mitem\u001b[0m\u001b[1;33m)\u001b[0m\u001b[1;33m)\u001b[0m\u001b[1;33m\u001b[0m\u001b[1;33m\u001b[0m\u001b[0m\n\u001b[0m",
      "\u001b[1;32m<ipython-input-117-efb1d76c5130>\u001b[0m in \u001b[0;36mextract_record\u001b[1;34m(item)\u001b[0m\n\u001b[0;32m     12\u001b[0m \u001b[1;33m\u001b[0m\u001b[0m\n\u001b[0;32m     13\u001b[0m     \u001b[1;31m#reviews\u001b[0m\u001b[1;33m\u001b[0m\u001b[1;33m\u001b[0m\u001b[1;33m\u001b[0m\u001b[0m\n\u001b[1;32m---> 14\u001b[1;33m     \u001b[0mrating\u001b[0m \u001b[1;33m=\u001b[0m \u001b[0mitem\u001b[0m\u001b[1;33m.\u001b[0m\u001b[0mi\u001b[0m\u001b[1;33m.\u001b[0m\u001b[0mtext\u001b[0m\u001b[1;33m\u001b[0m\u001b[1;33m\u001b[0m\u001b[0m\n\u001b[0m\u001b[0;32m     15\u001b[0m     \u001b[0mreview_count\u001b[0m \u001b[1;33m=\u001b[0m \u001b[0mitem\u001b[0m\u001b[1;33m.\u001b[0m\u001b[0mfind\u001b[0m\u001b[1;33m(\u001b[0m\u001b[1;34m'span'\u001b[0m\u001b[1;33m,\u001b[0m \u001b[1;33m{\u001b[0m\u001b[1;34m'class'\u001b[0m \u001b[1;33m:\u001b[0m \u001b[1;34m'a-size-base'\u001b[0m\u001b[1;33m}\u001b[0m\u001b[1;33m)\u001b[0m\u001b[1;33m.\u001b[0m\u001b[0mtext\u001b[0m\u001b[1;33m\u001b[0m\u001b[1;33m\u001b[0m\u001b[0m\n\u001b[0;32m     16\u001b[0m \u001b[1;33m\u001b[0m\u001b[0m\n",
      "\u001b[1;31mAttributeError\u001b[0m: 'NoneType' object has no attribute 'text'"
     ]
    }
   ],
   "source": [
    "#extract all content in page\n",
    "records = []\n",
    "results = soup.find_all('div', {'data-component-type': 's-search-result'})\n",
    "for item in results:\n",
    "    records.append(extract_record(item))"
   ]
  },
  {
   "cell_type": "markdown",
   "id": "cd081ea2",
   "metadata": {},
   "source": [
    "## Error handling"
   ]
  },
  {
   "cell_type": "code",
   "execution_count": 123,
   "id": "9911962f",
   "metadata": {},
   "outputs": [],
   "source": [
    "def extract_record(item):\n",
    "    \"\"\"Extract and return data from a single record\"\"\"\n",
    "    \n",
    "    #description\n",
    "    atag = item.h2.a\n",
    "    description = atag.text.strip()\n",
    "    \n",
    "    #url of each product\n",
    "    url = 'https://www.amazon.com' + atag.get('href')\n",
    "    \n",
    "    #price\n",
    "    price_parent = item.find('span', 'a-price')\n",
    "    price = price_parent.find('span', 'a-offscreen').text\n",
    "    try: \n",
    "    #reviews\n",
    "        rating = item.i.text\n",
    "        review_count = item.find('span', {'class' : 'a-size-base'}).text\n",
    "\n",
    "    except AttributeError:\n",
    "        rating = ''\n",
    "        review_count = ''\n",
    "    \n",
    "    result = (description, price, rating, review_count, url)\n",
    "    return result"
   ]
  },
  {
   "cell_type": "code",
   "execution_count": 124,
   "id": "b2997515",
   "metadata": {},
   "outputs": [],
   "source": [
    "records = []\n",
    "results = soup.find_all('div', {'data-component-type': 's-search-result'})\n",
    "for item in results:\n",
    "    records.append(extract_record(item))"
   ]
  },
  {
   "cell_type": "code",
   "execution_count": 125,
   "id": "7f8bc42a",
   "metadata": {},
   "outputs": [
    {
     "name": "stdout",
     "output_type": "stream",
     "text": [
      "4.6 out of 5 stars\n",
      "5.0 out of 5 stars\n",
      "4.8 out of 5 stars\n",
      "4.4 out of 5 stars\n",
      "4.3 out of 5 stars\n",
      "4.4 out of 5 stars\n",
      "4.3 out of 5 stars\n",
      "4.7 out of 5 stars\n",
      "4.7 out of 5 stars\n",
      "4.7 out of 5 stars\n",
      "4.8 out of 5 stars\n",
      "4.6 out of 5 stars\n",
      "4.8 out of 5 stars\n",
      "4.4 out of 5 stars\n",
      "\n",
      "4.3 out of 5 stars\n",
      "4.4 out of 5 stars\n",
      "4.6 out of 5 stars\n",
      "4.5 out of 5 stars\n",
      "4.8 out of 5 stars\n",
      "4.5 out of 5 stars\n",
      "4.3 out of 5 stars\n"
     ]
    }
   ],
   "source": [
    "#checking rows\n",
    "for row in records:\n",
    "    print(row[2])"
   ]
  },
  {
   "cell_type": "markdown",
   "id": "ff60c52f",
   "metadata": {},
   "source": [
    "## Getting the next page"
   ]
  },
  {
   "cell_type": "code",
   "execution_count": 126,
   "id": "1c0fc074",
   "metadata": {},
   "outputs": [],
   "source": [
    "#Modify the url function\n",
    "def get_url(search_term):\n",
    "    \"\"\"Generate a url from search term\"\"\"\n",
    "    template = 'https://www.amazon.com/s?k={}&crid=3AAARZP6Y3RZ0&sprefix=gamming+acc%2Caps%2C371&ref=nb_sb_ss_sc_5_10'\n",
    "    search_term = search_term.replace(' ', '+')\n",
    "    \n",
    "    #add term query to the url\n",
    "    url = template.format(search_term)\n",
    "    \n",
    "    #add page query placeholder\n",
    "    url += '&page={}'\n",
    "    return url"
   ]
  },
  {
   "cell_type": "markdown",
   "id": "717fe7ed",
   "metadata": {},
   "source": [
    "## Putting it all together"
   ]
  },
  {
   "cell_type": "code",
   "execution_count": 127,
   "id": "0b6e6c87",
   "metadata": {},
   "outputs": [],
   "source": [
    "import csv\n",
    "from bs4 import BeautifulSoup\n",
    "from selenium import webdriver\n",
    "\n",
    "def get_url(search_term):\n",
    "    \"\"\"Generate a url from search term\"\"\"\n",
    "    template = 'https://www.amazon.com/s?k={}&crid=3AAARZP6Y3RZ0&sprefix=gamming+acc%2Caps%2C371&ref=nb_sb_ss_sc_5_10'\n",
    "    search_term = search_term.replace(' ', '+')\n",
    "    \n",
    "    #add term query to the url\n",
    "    url = template.format(search_term)\n",
    "    \n",
    "    #add page query placeholder\n",
    "    url += '&page={}'\n",
    "    return url\n",
    "\n",
    "def extract_record(item):\n",
    "    \"\"\"Extract and return data from a single record\"\"\"\n",
    "    \n",
    "    #description and url\n",
    "    atag = item.h2.a\n",
    "    description = atag.text.strip()\n",
    "    url = 'https://www.amazon.com' + atag.get('href')\n",
    "    \n",
    "    #price\n",
    "    try:\n",
    "        price_parent = item.find('span', 'a-price')\n",
    "        price = price_parent.find('span', 'a-offscreen').text\n",
    "    except AttributeError:\n",
    "        price = ''\n",
    "    \n",
    "    #reviews\n",
    "    try: \n",
    "        rating = item.i.text\n",
    "        review_count = item.find('span', {'class' : 'a-size-base'}).text\n",
    "\n",
    "    except AttributeError:\n",
    "        rating = ''\n",
    "        review_count = ''\n",
    "    \n",
    "    result = (description, price, rating, review_count, url)\n",
    "    return result\n",
    "\n",
    "def main(search_term):\n",
    "    \"\"\"run main program routine\"\"\"\n",
    "    #startup the webdriver\n",
    "    driver = webdriver.Chrome()\n",
    "    \n",
    "    record = []\n",
    "    url = get_url(search_term)\n",
    "    \n",
    "    for page in range(1, 21):\n",
    "        driver.get(url.format(page))\n",
    "        soup = BeautifulSoup(driver.page_source, 'html.parser')\n",
    "        results = soup.find_all('div', {'data-component-type': 's-search-result'})\n",
    "        \n",
    "        for item in results:\n",
    "            record = extract_record(item)\n",
    "            if record:\n",
    "                records.append(record)\n",
    "                \n",
    "    driver.close()\n",
    "\n",
    "    #save data to csv file\n",
    "    with open('gaming_accessories1.csv','w', newline='', encoding='utf-8') as f:\n",
    "        writer = csv.writer(f)\n",
    "        writer.writerow(['Description','Price','Rating','Review_Count', 'Url'])\n",
    "        writer.writerows(records)"
   ]
  },
  {
   "cell_type": "code",
   "execution_count": 83,
   "id": "d2f701b3",
   "metadata": {},
   "outputs": [],
   "source": [
    "main('gaming accessories')"
   ]
  }
 ],
 "metadata": {
  "kernelspec": {
   "display_name": "Python 3",
   "language": "python",
   "name": "python3"
  },
  "language_info": {
   "codemirror_mode": {
    "name": "ipython",
    "version": 3
   },
   "file_extension": ".py",
   "mimetype": "text/x-python",
   "name": "python",
   "nbconvert_exporter": "python",
   "pygments_lexer": "ipython3",
   "version": "3.8.8"
  }
 },
 "nbformat": 4,
 "nbformat_minor": 5
}
